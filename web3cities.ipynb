#importing the libraries
from bs4 import BeautifulSoup
import requests
import pandas as pd

#importing the website url
url = 'https://web3.career/web3-cities'

lists = requests.get(url)
soup = BeautifulSoup(lists.text, 'html')

print(soup)

table = soup.find('table')

print(table)

#table = soup.find_all('table table-borderless')

#print(table)

soup.find('table', class_ = 'table table-borderless')

cities_titles = table.find_all('th')
cities_titles
cities_table_titles = [title.text.strip() for title in cities_titles]

df = pd.DataFrame(columns = cities_table_titles)
df
